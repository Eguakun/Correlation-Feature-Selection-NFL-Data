{
  "nbformat": 4,
  "nbformat_minor": 0,
  "metadata": {
    "colab": {
      "name": "Correlation Feature Selection.ipynb",
      "provenance": [],
      "authorship_tag": "ABX9TyOY5/MZgMKnI5cnzj6z0oli"
    },
    "kernelspec": {
      "name": "python3",
      "display_name": "Python 3"
    },
    "language_info": {
      "name": "python"
    }
  },
  "cells": [
    {
      "cell_type": "code",
      "metadata": {
        "colab": {
          "base_uri": "https://localhost:8080/"
        },
        "id": "i473Wy2dfu73",
        "outputId": "4d048b05-a6da-4d03-fcb3-45f4fe78907b"
      },
      "source": [
        "import pandas as pd\n",
        "import numpy as np\n",
        "from sklearn.feature_selection import SelectKBest\n",
        "from sklearn.feature_selection import chi2\n",
        "import matplotlib.pyplot as plt\n",
        "from sklearn.model_selection import train_test_split\n",
        "from sklearn.linear_model import LinearRegression\n",
        "from sklearn.ensemble import IsolationForest\n",
        "from sklearn.metrics import mean_absolute_error\n",
        "from sklearn.cluster import KMeans\n",
        "from scipy.spatial.distance import cdist\n",
        "from numpy import genfromtxt\n",
        "import seaborn as sns\n",
        "\n",
        "\n",
        "\n",
        "nfl_svd_data = pd.read_csv(\"/content/Data/numeric_nfl-SVD.csv\")\n",
        "nfl_soft_impute_data = pd.read_csv(\"/content/Data/numeric_nfl-SoftImpute.csv\")\n",
        "nfl_matrix_factorization_data = pd.read_csv(\"/content/Data/numeric_nfl-MatrixFactorization.csv\")\n",
        "nfl_iterative_impute_data = pd.read_csv(\"/content/Data/numeric_nfl-IterativeImpute.csv\")\n",
        "\n",
        "\n",
        "\n",
        "\n",
        "\n",
        "\n",
        "\n",
        "X = nfl_iterative_impute_data.drop('17', axis=1)\n",
        "y = nfl_iterative_impute_data['17']\n",
        "\n",
        "\n",
        "\n",
        "\n",
        "\n",
        "# separate dataset into train and test\n",
        "X_train, X_test, y_train, y_test = train_test_split(\n",
        "    X,\n",
        "    y,\n",
        "    test_size=0.2,\n",
        "    random_state=0)\n",
        "\n",
        "X_train.shape, X_test.shape\n",
        "\n",
        "\n",
        "# with the following function we can select highly correlated features\n",
        "# it will remove the first feature that is correlated with anything other feature\n",
        "\n",
        "def correlation(dataset, threshold):\n",
        "    col_corr = set()  # Set of all the names of correlated columns\n",
        "    corr_matrix = dataset.corr()\n",
        "    for i in range(len(corr_matrix.columns)):\n",
        "        for j in range(i):\n",
        "            if abs(corr_matrix.iloc[i, j]) > threshold: # we are interested in absolute coeff value\n",
        "                colname = corr_matrix.columns[i]  # getting the name of column\n",
        "                col_corr.add(colname)\n",
        "    return col_corr\n",
        "\n",
        "\n",
        "\n",
        "corr_features = correlation(X_train, 0.9)\n",
        "print(len(set(corr_features)))\n",
        "\n",
        "\n",
        "corr_features\n",
        "\n",
        "\n",
        "\n",
        "\n",
        "\n",
        "\n",
        "\n",
        "\n",
        "\n",
        "\n",
        "\n",
        "\n",
        "\n",
        "\n",
        "\n"
      ],
      "execution_count": null,
      "outputs": [
        {
          "output_type": "stream",
          "name": "stdout",
          "text": [
            "28\n"
          ]
        },
        {
          "output_type": "execute_result",
          "data": {
            "text/plain": [
              "{'0',\n",
              " '105',\n",
              " '11',\n",
              " '111',\n",
              " '112',\n",
              " '13',\n",
              " '14',\n",
              " '18',\n",
              " '19',\n",
              " '20',\n",
              " '24',\n",
              " '33',\n",
              " '35',\n",
              " '37',\n",
              " '43',\n",
              " '45',\n",
              " '47',\n",
              " '49',\n",
              " '57',\n",
              " '58',\n",
              " '59',\n",
              " '6',\n",
              " '60',\n",
              " '66',\n",
              " '67',\n",
              " '68',\n",
              " '70',\n",
              " '72'}"
            ]
          },
          "metadata": {},
          "execution_count": 26
        }
      ]
    }
  ]
}